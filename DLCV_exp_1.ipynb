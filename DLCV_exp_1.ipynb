{
  "nbformat": 4,
  "nbformat_minor": 0,
  "metadata": {
    "colab": {
      "provenance": []
    },
    "kernelspec": {
      "name": "python3",
      "display_name": "Python 3"
    },
    "language_info": {
      "name": "python"
    }
  },
  "cells": [
    {
      "cell_type": "code",
      "execution_count": null,
      "metadata": {
        "id": "6Q2BW3IPRmvP"
      },
      "outputs": [],
      "source": [
        "# @title Exp:1. Implementation of Classification with Multilayer Perceptron using Scikit-learn with MNIST Dataset. { display-mode: \"form\" }\n",
        "import numpy as np\n",
        "from sklearn.datasets import fetch_openml\n",
        "from sklearn.model_selection import train_test_split\n",
        "from sklearn.neural_network import MLPClassifier\n",
        "from sklearn.metrics import accuracy_score, confusion_matrix,classification_report\n",
        "import matplotlib.pyplot as plt\n",
        "import seaborn as sns\n",
        "\n",
        "mnist = fetch_openml('mnist_784', version=1)\n",
        "X = mnist.data/255.0  # Normalize pixel values\n",
        "y = mnist.target\n",
        "X_train, X_test, y_train, y_test = train_test_split(X, y, test_size=0.4, random_state=42)\n",
        "mlp = MLPClassifier(hidden_layer_sizes=(100, 50), solver='adam', max_iter=500, random_state=42)\n",
        "mlp.fit(X_train, y_train)\n",
        "predictions = mlp.predict(X_test)\n",
        "accuracy = accuracy_score(y_test, predictions)\n",
        "print(\"Accuracy:\", accuracy)\n",
        "cm = confusion_matrix(y_test, predictions)\n",
        "# print(cm)\n",
        "print(classification_report(y_test, predictions))\n",
        "plt.figure(figsize=(10,8))\n",
        "sns.heatmap(cm,annot=True,cmap=\"Blues\",fmt=\"d\")\n",
        "plt.xlabel(\"Predicted\")\n",
        "plt.ylabel(\"Actual\")\n",
        "plt.title(\"Confusion Matrix\")\n",
        "plt.show()"
      ]
    }
  ]
}