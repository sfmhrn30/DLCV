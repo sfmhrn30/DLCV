{
  "nbformat": 4,
  "nbformat_minor": 0,
  "metadata": {
    "colab": {
      "provenance": []
    },
    "kernelspec": {
      "name": "python3",
      "display_name": "Python 3"
    },
    "language_info": {
      "name": "python"
    }
  },
  "cells": [
    {
      "cell_type": "code",
      "execution_count": null,
      "metadata": {
        "colab": {
          "base_uri": "https://localhost:8080/"
        },
        "id": "LSAYFFAeUvOo",
        "outputId": "b497f607-e02b-422a-b342-9047326b3575"
      },
      "outputs": [
        {
          "output_type": "stream",
          "name": "stdout",
          "text": [
            "Accuracy with L1 regularization: 0.855\n",
            "Accuracy with L2 regularization: 0.855\n",
            "7/7 [==============================] - 0s 4ms/step - loss: 0.3695 - accuracy: 0.8600\n",
            "Accuracy with dropout regularization: 0.8600000143051147\n"
          ]
        }
      ],
      "source": [
        "import numpy as np\n",
        "from sklearn.datasets import make_classification\n",
        "from sklearn.model_selection import train_test_split\n",
        "from sklearn.linear_model import LogisticRegression\n",
        "from sklearn.metrics import accuracy_score\n",
        "from keras.models import Sequential\n",
        "from keras.layers import Dense, Dropout\n",
        "from keras.regularizers import l1, l2\n",
        "\n",
        "# Generate some random data\n",
        "X, y = make_classification(n_samples=1000, n_features=20, n_classes=2, random_state=42)\n",
        "\n",
        "# Split the data into training and testing sets\n",
        "X_train, X_test, y_train, y_test = train_test_split(X, y, test_size=0.2, random_state=42)\n",
        "\n",
        "# Logistic Regression with L1 Regularization\n",
        "model_l1 = LogisticRegression(penalty='l1', solver='liblinear')\n",
        "model_l1.fit(X_train, y_train)\n",
        "y_pred_l1 = model_l1.predict(X_test)\n",
        "acc_l1 = accuracy_score(y_test, y_pred_l1)\n",
        "print(\"Accuracy with L1 regularization:\", acc_l1)\n",
        "\n",
        "# Logistic Regression with L2 Regularization\n",
        "model_l2 = LogisticRegression(penalty='l2')\n",
        "model_l2.fit(X_train, y_train)\n",
        "y_pred_l2 = model_l2.predict(X_test)\n",
        "acc_l2 = accuracy_score(y_test, y_pred_l2)\n",
        "print(\"Accuracy with L2 regularization:\", acc_l2)\n",
        "\n",
        "# Neural Network with Dropout Regularization\n",
        "model_dropout = Sequential([\n",
        "    Dense(64, activation='relu', input_shape=(X_train.shape[1],)),\n",
        "    Dropout(0.5),\n",
        "    Dense(32, activation='relu'),\n",
        "    Dropout(0.5),\n",
        "    Dense(1, activation='sigmoid')\n",
        "])\n",
        "model_dropout.compile(optimizer='adam', loss='binary_crossentropy', metrics=['accuracy'])\n",
        "model_dropout.fit(X_train, y_train, epochs=50, batch_size=32, verbose=0)\n",
        "_, acc_dropout = model_dropout.evaluate(X_test, y_test)\n",
        "print(\"Accuracy with dropout regularization:\", acc_dropout)"
      ]
    },
    {
      "cell_type": "code",
      "source": [],
      "metadata": {
        "id": "a3J27Q8QVsui"
      },
      "execution_count": null,
      "outputs": []
    }
  ]
}